{
 "cells": [
  {
   "cell_type": "markdown",
   "metadata": {},
   "source": [
    "# Final Project - Analisis Data World University Rankings\n",
    "### Disusun oleh: Rafii Yainal Abidin"
   ]
  },
  {
   "cell_type": "markdown",
   "metadata": {},
   "source": [
    "Analisis ini menggunakan dataset yang berisi tentang nama-nama universitas yang mendapatkan peringkat terbaik di dunia. Peringkat tersebut diukur dari berapa total score yang didapatkan. Dalam dataset tersebut juga terdapat beberapa variabel/tolak ukur yang dijadikan penilaian kenapa universitas tersebut layak menjadi universitas terbaik."
   ]
  },
  {
   "cell_type": "markdown",
   "metadata": {},
   "source": [
    "## Analisis World University Rankings"
   ]
  },
  {
   "cell_type": "markdown",
   "metadata": {},
   "source": [
    "Project ini bertujuan untuk menganalisis serta melakukan prediksi bagaimana sebuah universitas itu bisa dinilai baik dan menduduki peringkat terbaik di dunia.\n",
    "\n",
    "Sumber: https://www.kaggle.com/mylesoneill/world-university-rankings\n",
    "(dengan bebeberapa penyesuaian)"
   ]
  },
  {
   "cell_type": "markdown",
   "metadata": {},
   "source": [
    "Pertanyaan yang akan dijawab melalui analisis ini adalah:\n",
    "1. Variabel apa yang berpengaruh paling besar terhadap peningkatan peringkat universitas berdasarkan data?\n",
    "2. Model analisis regresi apa yang paling tepat digunakan?\n",
    "3. Bisakah dilakukan clustering/clasification?\n",
    "4. Prediksi apa yang bisa dilakukan setelah analisis?"
   ]
  },
  {
   "cell_type": "markdown",
   "metadata": {},
   "source": [
    "# Preparing"
   ]
  },
  {
   "cell_type": "markdown",
   "metadata": {},
   "source": [
    "### Import Library"
   ]
  },
  {
   "cell_type": "markdown",
   "metadata": {},
   "source": [
    "Sebelum melakukan analisis serta menampilkan data, langkah pertama adalah memanggil library-library yang nanti akan digunakan."
   ]
  },
  {
   "cell_type": "code",
   "execution_count": 15,
   "metadata": {},
   "outputs": [],
   "source": [
    "import s3fs #for open file in s3\n",
    "import pandas as pd #for dataframes\n",
    "import matplotlib.pyplot as plt #for plotting graphs\n",
    "%matplotlib inline\n",
    "plt.rcParams['figure.figsize'] = (12, 6)\n",
    "plt.style.use('ggplot')\n",
    "import numpy as np\n",
    "import pylab as pl"
   ]
  },
  {
   "cell_type": "markdown",
   "metadata": {},
   "source": [
    "### Import Data "
   ]
  },
  {
   "cell_type": "markdown",
   "metadata": {},
   "source": [
    "Setelah memanggil library yang dibutuhkan, selanjutnya adalah memanggil dataset. Dataset tersebut tersimpan dalam di bucket amazone S3 saya. Sehingga cara memanggilnya sebagai berikut."
   ]
  },
  {
   "cell_type": "code",
   "execution_count": 3,
   "metadata": {},
   "outputs": [
    {
     "data": {
      "text/plain": [
       "['bucketprojectdts/timesData.csv',\n",
       " 'bucketprojectdts/timesData2.csv',\n",
       " 'bucketprojectdts/timesData3.csv']"
      ]
     },
     "execution_count": 3,
     "metadata": {},
     "output_type": "execute_result"
    }
   ],
   "source": [
    "s3 = s3fs.S3FileSystem()\n",
    "\n",
    "s3.ls('bucketprojectdts')"
   ]
  },
  {
   "cell_type": "code",
   "execution_count": 4,
   "metadata": {},
   "outputs": [],
   "source": [
    "with s3.open('bucketprojectdts/timesData3.csv', 'rb') as f:\n",
    "    file = pd.read_csv(f)"
   ]
  },
  {
   "cell_type": "code",
   "execution_count": 5,
   "metadata": {},
   "outputs": [
    {
     "data": {
      "text/html": [
       "<div>\n",
       "<style scoped>\n",
       "    .dataframe tbody tr th:only-of-type {\n",
       "        vertical-align: middle;\n",
       "    }\n",
       "\n",
       "    .dataframe tbody tr th {\n",
       "        vertical-align: top;\n",
       "    }\n",
       "\n",
       "    .dataframe thead th {\n",
       "        text-align: right;\n",
       "    }\n",
       "</style>\n",
       "<table border=\"1\" class=\"dataframe\">\n",
       "  <thead>\n",
       "    <tr style=\"text-align: right;\">\n",
       "      <th></th>\n",
       "      <th>world_rank</th>\n",
       "      <th>university_name</th>\n",
       "      <th>country</th>\n",
       "      <th>teaching</th>\n",
       "      <th>international</th>\n",
       "      <th>research</th>\n",
       "      <th>citations</th>\n",
       "      <th>income</th>\n",
       "      <th>total_score</th>\n",
       "      <th>num_students</th>\n",
       "      <th>student_staff_ratio</th>\n",
       "      <th>international_students</th>\n",
       "      <th>female_male_ratio</th>\n",
       "      <th>year</th>\n",
       "    </tr>\n",
       "  </thead>\n",
       "  <tbody>\n",
       "    <tr>\n",
       "      <th>0</th>\n",
       "      <td>1</td>\n",
       "      <td>Harvard University</td>\n",
       "      <td>United States of America</td>\n",
       "      <td>99.7</td>\n",
       "      <td>72.4</td>\n",
       "      <td>98.7</td>\n",
       "      <td>98.8</td>\n",
       "      <td>34.5</td>\n",
       "      <td>96.1</td>\n",
       "      <td>20152.0</td>\n",
       "      <td>8.9</td>\n",
       "      <td>25%</td>\n",
       "      <td>NaN</td>\n",
       "      <td>2011</td>\n",
       "    </tr>\n",
       "    <tr>\n",
       "      <th>1</th>\n",
       "      <td>2</td>\n",
       "      <td>California Institute of Technology</td>\n",
       "      <td>United States of America</td>\n",
       "      <td>97.7</td>\n",
       "      <td>54.6</td>\n",
       "      <td>98.0</td>\n",
       "      <td>99.9</td>\n",
       "      <td>83.7</td>\n",
       "      <td>96.0</td>\n",
       "      <td>2243.0</td>\n",
       "      <td>6.9</td>\n",
       "      <td>27%</td>\n",
       "      <td>33 : 67</td>\n",
       "      <td>2011</td>\n",
       "    </tr>\n",
       "    <tr>\n",
       "      <th>2</th>\n",
       "      <td>3</td>\n",
       "      <td>Massachusetts Institute of Technology</td>\n",
       "      <td>United States of America</td>\n",
       "      <td>97.8</td>\n",
       "      <td>82.3</td>\n",
       "      <td>91.4</td>\n",
       "      <td>99.9</td>\n",
       "      <td>87.5</td>\n",
       "      <td>95.6</td>\n",
       "      <td>11074.0</td>\n",
       "      <td>9.0</td>\n",
       "      <td>33%</td>\n",
       "      <td>37 : 63</td>\n",
       "      <td>2011</td>\n",
       "    </tr>\n",
       "    <tr>\n",
       "      <th>3</th>\n",
       "      <td>4</td>\n",
       "      <td>Stanford University</td>\n",
       "      <td>United States of America</td>\n",
       "      <td>98.3</td>\n",
       "      <td>29.5</td>\n",
       "      <td>98.1</td>\n",
       "      <td>99.2</td>\n",
       "      <td>64.3</td>\n",
       "      <td>94.3</td>\n",
       "      <td>15596.0</td>\n",
       "      <td>7.8</td>\n",
       "      <td>22%</td>\n",
       "      <td>42 : 58</td>\n",
       "      <td>2011</td>\n",
       "    </tr>\n",
       "    <tr>\n",
       "      <th>4</th>\n",
       "      <td>5</td>\n",
       "      <td>Princeton University</td>\n",
       "      <td>United States of America</td>\n",
       "      <td>90.9</td>\n",
       "      <td>70.3</td>\n",
       "      <td>95.4</td>\n",
       "      <td>99.9</td>\n",
       "      <td>-</td>\n",
       "      <td>94.2</td>\n",
       "      <td>7929.0</td>\n",
       "      <td>8.4</td>\n",
       "      <td>27%</td>\n",
       "      <td>45 : 55</td>\n",
       "      <td>2011</td>\n",
       "    </tr>\n",
       "  </tbody>\n",
       "</table>\n",
       "</div>"
      ],
      "text/plain": [
       "   world_rank                        university_name  \\\n",
       "0           1                     Harvard University   \n",
       "1           2     California Institute of Technology   \n",
       "2           3  Massachusetts Institute of Technology   \n",
       "3           4                    Stanford University   \n",
       "4           5                   Princeton University   \n",
       "\n",
       "                    country  teaching international  research  citations  \\\n",
       "0  United States of America      99.7          72.4      98.7       98.8   \n",
       "1  United States of America      97.7          54.6      98.0       99.9   \n",
       "2  United States of America      97.8          82.3      91.4       99.9   \n",
       "3  United States of America      98.3          29.5      98.1       99.2   \n",
       "4  United States of America      90.9          70.3      95.4       99.9   \n",
       "\n",
       "  income  total_score  num_students  student_staff_ratio  \\\n",
       "0   34.5         96.1       20152.0                  8.9   \n",
       "1   83.7         96.0        2243.0                  6.9   \n",
       "2   87.5         95.6       11074.0                  9.0   \n",
       "3   64.3         94.3       15596.0                  7.8   \n",
       "4      -         94.2        7929.0                  8.4   \n",
       "\n",
       "  international_students female_male_ratio  year  \n",
       "0                    25%               NaN  2011  \n",
       "1                    27%           33 : 67  2011  \n",
       "2                    33%           37 : 63  2011  \n",
       "3                    22%           42 : 58  2011  \n",
       "4                    27%           45 : 55  2011  "
      ]
     },
     "execution_count": 5,
     "metadata": {},
     "output_type": "execute_result"
    }
   ],
   "source": [
    "file.head()"
   ]
  },
  {
   "cell_type": "code",
   "execution_count": 6,
   "metadata": {},
   "outputs": [
    {
     "data": {
      "text/plain": [
       "Index(['world_rank', 'university_name', 'country', 'teaching', 'international',\n",
       "       'research', 'citations', 'income', 'total_score', 'num_students',\n",
       "       'student_staff_ratio', 'international_students', 'female_male_ratio',\n",
       "       'year'],\n",
       "      dtype='object')"
      ]
     },
     "execution_count": 6,
     "metadata": {},
     "output_type": "execute_result"
    }
   ],
   "source": [
    "file.columns # mengetahui kolom pada data"
   ]
  },
  {
   "cell_type": "markdown",
   "metadata": {},
   "source": [
    "### Melakukan Sorting Data"
   ]
  },
  {
   "cell_type": "markdown",
   "metadata": {},
   "source": [
    "Untuk mempermudah analisa saya mencoba mengerucutkan data yang akan dianalisis, disini saya hanya menampilkan 100 universitas dengan ranking teratas."
   ]
  },
  {
   "cell_type": "code",
   "execution_count": 7,
   "metadata": {},
   "outputs": [],
   "source": [
    "data = file[:100]"
   ]
  },
  {
   "cell_type": "markdown",
   "metadata": {},
   "source": [
    "### Membuat Data Frame"
   ]
  },
  {
   "cell_type": "markdown",
   "metadata": {},
   "source": [
    "Setelah memilih dan melakukan sorting data, langkah selanjutnya adalah membuat dataframe. Disini saya hanya mengambil beberapa variabel saja, yaitu:"
   ]
  },
  {
   "cell_type": "code",
   "execution_count": 8,
   "metadata": {},
   "outputs": [],
   "source": [
    "df = pd.DataFrame(data, columns = ['university_name', 'teaching',\n",
    "                                   'research', 'num_students', \n",
    "                                   'student_staff_ratio','total_score'])"
   ]
  },
  {
   "cell_type": "code",
   "execution_count": 9,
   "metadata": {},
   "outputs": [
    {
     "data": {
      "text/html": [
       "<div>\n",
       "<style scoped>\n",
       "    .dataframe tbody tr th:only-of-type {\n",
       "        vertical-align: middle;\n",
       "    }\n",
       "\n",
       "    .dataframe tbody tr th {\n",
       "        vertical-align: top;\n",
       "    }\n",
       "\n",
       "    .dataframe thead th {\n",
       "        text-align: right;\n",
       "    }\n",
       "</style>\n",
       "<table border=\"1\" class=\"dataframe\">\n",
       "  <thead>\n",
       "    <tr style=\"text-align: right;\">\n",
       "      <th></th>\n",
       "      <th>university_name</th>\n",
       "      <th>teaching</th>\n",
       "      <th>research</th>\n",
       "      <th>num_students</th>\n",
       "      <th>student_staff_ratio</th>\n",
       "      <th>total_score</th>\n",
       "    </tr>\n",
       "  </thead>\n",
       "  <tbody>\n",
       "    <tr>\n",
       "      <th>0</th>\n",
       "      <td>Harvard University</td>\n",
       "      <td>99.7</td>\n",
       "      <td>98.7</td>\n",
       "      <td>20152.0</td>\n",
       "      <td>8.9</td>\n",
       "      <td>96.1</td>\n",
       "    </tr>\n",
       "    <tr>\n",
       "      <th>1</th>\n",
       "      <td>California Institute of Technology</td>\n",
       "      <td>97.7</td>\n",
       "      <td>98.0</td>\n",
       "      <td>2243.0</td>\n",
       "      <td>6.9</td>\n",
       "      <td>96.0</td>\n",
       "    </tr>\n",
       "    <tr>\n",
       "      <th>2</th>\n",
       "      <td>Massachusetts Institute of Technology</td>\n",
       "      <td>97.8</td>\n",
       "      <td>91.4</td>\n",
       "      <td>11074.0</td>\n",
       "      <td>9.0</td>\n",
       "      <td>95.6</td>\n",
       "    </tr>\n",
       "    <tr>\n",
       "      <th>3</th>\n",
       "      <td>Stanford University</td>\n",
       "      <td>98.3</td>\n",
       "      <td>98.1</td>\n",
       "      <td>15596.0</td>\n",
       "      <td>7.8</td>\n",
       "      <td>94.3</td>\n",
       "    </tr>\n",
       "    <tr>\n",
       "      <th>4</th>\n",
       "      <td>Princeton University</td>\n",
       "      <td>90.9</td>\n",
       "      <td>95.4</td>\n",
       "      <td>7929.0</td>\n",
       "      <td>8.4</td>\n",
       "      <td>94.2</td>\n",
       "    </tr>\n",
       "  </tbody>\n",
       "</table>\n",
       "</div>"
      ],
      "text/plain": [
       "                         university_name  teaching  research  num_students  \\\n",
       "0                     Harvard University      99.7      98.7       20152.0   \n",
       "1     California Institute of Technology      97.7      98.0        2243.0   \n",
       "2  Massachusetts Institute of Technology      97.8      91.4       11074.0   \n",
       "3                    Stanford University      98.3      98.1       15596.0   \n",
       "4                   Princeton University      90.9      95.4        7929.0   \n",
       "\n",
       "   student_staff_ratio  total_score  \n",
       "0                  8.9         96.1  \n",
       "1                  6.9         96.0  \n",
       "2                  9.0         95.6  \n",
       "3                  7.8         94.3  \n",
       "4                  8.4         94.2  "
      ]
     },
     "execution_count": 9,
     "metadata": {},
     "output_type": "execute_result"
    }
   ],
   "source": [
    "df.head()"
   ]
  },
  {
   "cell_type": "code",
   "execution_count": 10,
   "metadata": {},
   "outputs": [
    {
     "data": {
      "text/plain": [
       "university_name         object\n",
       "teaching               float64\n",
       "research               float64\n",
       "num_students           float64\n",
       "student_staff_ratio    float64\n",
       "total_score            float64\n",
       "dtype: object"
      ]
     },
     "execution_count": 10,
     "metadata": {},
     "output_type": "execute_result"
    }
   ],
   "source": [
    "df.dtypes # untuk mengetahui type data pada dataframe"
   ]
  },
  {
   "cell_type": "markdown",
   "metadata": {},
   "source": [
    "### Pengecekan Nilai Null"
   ]
  },
  {
   "cell_type": "markdown",
   "metadata": {},
   "source": [
    "Setelah dataframe selesai dibuat, langkah selanjutnya adalah mengecek apakah dalam dataframe terdapat data yang tidak ada nilainya/null. Caranya sebagai berikut:"
   ]
  },
  {
   "cell_type": "code",
   "execution_count": 11,
   "metadata": {},
   "outputs": [
    {
     "data": {
      "text/plain": [
       "university_name        0\n",
       "teaching               0\n",
       "research               0\n",
       "num_students           3\n",
       "student_staff_ratio    3\n",
       "total_score            0\n",
       "dtype: int64"
      ]
     },
     "execution_count": 11,
     "metadata": {},
     "output_type": "execute_result"
    }
   ],
   "source": [
    "df.isnull().sum() # untuk mengecek data yang bernilai null"
   ]
  },
  {
   "cell_type": "markdown",
   "metadata": {},
   "source": [
    "Setelah dilakukan pengecekan ternyata didapati bahwa ada 2 buah kolom pada dataframe yang mempunyai value null masing-masing terdapat 3."
   ]
  },
  {
   "cell_type": "markdown",
   "metadata": {},
   "source": [
    "## Cleaning Data\n",
    "### Menghilangkan Data Null"
   ]
  },
  {
   "cell_type": "markdown",
   "metadata": {},
   "source": [
    "Langkah selanjutnya adalah melakukan cleaning data yang null. Karena disini hanya terdapat 6 data saja maka data yang berisi null saya hapus."
   ]
  },
  {
   "cell_type": "code",
   "execution_count": 12,
   "metadata": {},
   "outputs": [],
   "source": [
    "dat = df.dropna() # menghapus yang bernilai null"
   ]
  },
  {
   "cell_type": "markdown",
   "metadata": {},
   "source": [
    "Setelah data yang bernilai null dihapus. Selanjutnya yaitu mengecek kembali apakah data sudah terhapus."
   ]
  },
  {
   "cell_type": "code",
   "execution_count": 13,
   "metadata": {},
   "outputs": [
    {
     "data": {
      "text/plain": [
       "university_name        0\n",
       "teaching               0\n",
       "research               0\n",
       "num_students           0\n",
       "student_staff_ratio    0\n",
       "total_score            0\n",
       "dtype: int64"
      ]
     },
     "execution_count": 13,
     "metadata": {},
     "output_type": "execute_result"
    }
   ],
   "source": [
    "dat.isnull().sum() # untuk mengecek data yang bernilai null"
   ]
  },
  {
   "cell_type": "code",
   "execution_count": 14,
   "metadata": {},
   "outputs": [
    {
     "data": {
      "text/html": [
       "<div>\n",
       "<style scoped>\n",
       "    .dataframe tbody tr th:only-of-type {\n",
       "        vertical-align: middle;\n",
       "    }\n",
       "\n",
       "    .dataframe tbody tr th {\n",
       "        vertical-align: top;\n",
       "    }\n",
       "\n",
       "    .dataframe thead th {\n",
       "        text-align: right;\n",
       "    }\n",
       "</style>\n",
       "<table border=\"1\" class=\"dataframe\">\n",
       "  <thead>\n",
       "    <tr style=\"text-align: right;\">\n",
       "      <th></th>\n",
       "      <th>university_name</th>\n",
       "      <th>teaching</th>\n",
       "      <th>research</th>\n",
       "      <th>num_students</th>\n",
       "      <th>student_staff_ratio</th>\n",
       "      <th>total_score</th>\n",
       "    </tr>\n",
       "  </thead>\n",
       "  <tbody>\n",
       "    <tr>\n",
       "      <th>0</th>\n",
       "      <td>Harvard University</td>\n",
       "      <td>99.7</td>\n",
       "      <td>98.7</td>\n",
       "      <td>20152.0</td>\n",
       "      <td>8.9</td>\n",
       "      <td>96.1</td>\n",
       "    </tr>\n",
       "    <tr>\n",
       "      <th>1</th>\n",
       "      <td>California Institute of Technology</td>\n",
       "      <td>97.7</td>\n",
       "      <td>98.0</td>\n",
       "      <td>2243.0</td>\n",
       "      <td>6.9</td>\n",
       "      <td>96.0</td>\n",
       "    </tr>\n",
       "    <tr>\n",
       "      <th>2</th>\n",
       "      <td>Massachusetts Institute of Technology</td>\n",
       "      <td>97.8</td>\n",
       "      <td>91.4</td>\n",
       "      <td>11074.0</td>\n",
       "      <td>9.0</td>\n",
       "      <td>95.6</td>\n",
       "    </tr>\n",
       "    <tr>\n",
       "      <th>3</th>\n",
       "      <td>Stanford University</td>\n",
       "      <td>98.3</td>\n",
       "      <td>98.1</td>\n",
       "      <td>15596.0</td>\n",
       "      <td>7.8</td>\n",
       "      <td>94.3</td>\n",
       "    </tr>\n",
       "    <tr>\n",
       "      <th>4</th>\n",
       "      <td>Princeton University</td>\n",
       "      <td>90.9</td>\n",
       "      <td>95.4</td>\n",
       "      <td>7929.0</td>\n",
       "      <td>8.4</td>\n",
       "      <td>94.2</td>\n",
       "    </tr>\n",
       "  </tbody>\n",
       "</table>\n",
       "</div>"
      ],
      "text/plain": [
       "                         university_name  teaching  research  num_students  \\\n",
       "0                     Harvard University      99.7      98.7       20152.0   \n",
       "1     California Institute of Technology      97.7      98.0        2243.0   \n",
       "2  Massachusetts Institute of Technology      97.8      91.4       11074.0   \n",
       "3                    Stanford University      98.3      98.1       15596.0   \n",
       "4                   Princeton University      90.9      95.4        7929.0   \n",
       "\n",
       "   student_staff_ratio  total_score  \n",
       "0                  8.9         96.1  \n",
       "1                  6.9         96.0  \n",
       "2                  9.0         95.6  \n",
       "3                  7.8         94.3  \n",
       "4                  8.4         94.2  "
      ]
     },
     "execution_count": 14,
     "metadata": {},
     "output_type": "execute_result"
    }
   ],
   "source": [
    "dat.head()"
   ]
  },
  {
   "cell_type": "code",
   "execution_count": 16,
   "metadata": {},
   "outputs": [
    {
     "data": {
      "text/plain": [
       "array([[<matplotlib.axes._subplots.AxesSubplot object at 0x7fadee723320>,\n",
       "        <matplotlib.axes._subplots.AxesSubplot object at 0x7fadeabc9748>],\n",
       "       [<matplotlib.axes._subplots.AxesSubplot object at 0x7fadeab70cc0>,\n",
       "        <matplotlib.axes._subplots.AxesSubplot object at 0x7fadeaba3278>],\n",
       "       [<matplotlib.axes._subplots.AxesSubplot object at 0x7fadeab4a7f0>,\n",
       "        <matplotlib.axes._subplots.AxesSubplot object at 0x7fadeaaf2d68>]],\n",
       "      dtype=object)"
      ]
     },
     "execution_count": 16,
     "metadata": {},
     "output_type": "execute_result"
    },
    {
     "data": {
      "image/png": "[encoded data removed]",
      "text/plain": [
       "<Figure size 864x432 with 6 Axes>"
      ]
     },
     "metadata": {},
     "output_type": "display_data"
    }
   ],
   "source": [
    "dat.hist()"
   ]
  },
  {
   "cell_type": "markdown",
   "metadata": {},
   "source": [
    "## Analisis Data"
   ]
  },
  {
   "cell_type": "markdown",
   "metadata": {},
   "source": [
    "### 1. Scatter Plot 1 (untuk masing-masing features)"
   ]
  },
  {
   "cell_type": "markdown",
   "metadata": {},
   "source": [
    "Setelah membuat sebuah dataframe, langkah selanjutnya yaitu melakukan plotting terhadap semua features-features yang kemungkinan mempunyai korelasi. Untuk mempermudah membandingkan features yang diduga mempunyai korelasi satu sama lain disini saya menggunakan scatter matrix."
   ]
  },
  {
   "cell_type": "code",
   "execution_count": 17,
   "metadata": {},
   "outputs": [
    {
     "data": {
      "image/png": "[encoded data removed]",
      "text/plain": [
       "<Figure size 864x720 with 25 Axes>"
      ]
     },
     "metadata": {},
     "output_type": "display_data"
    }
   ],
   "source": [
    "from pandas.plotting import scatter_matrix\n",
    "scatter_matrix(dat, figsize=(12,10))\n",
    "plt.show()"
   ]
  },
  {
   "cell_type": "markdown",
   "metadata": {},
   "source": [
    "Tujuan analisis ini adalah untuk mengetahui variabel apa yang paling berpengaruh terhadap peningkatan peringkat universitas. Peringkat universitas di dapat dari total score. Sehingga yang harus kita bandingkan adalah total score terhadap variabel lain."
   ]
  },
  {
   "cell_type": "code",
   "execution_count": 18,
   "metadata": {},
   "outputs": [
    {
     "data": {
      "text/html": [
       "<div>\n",
       "<style scoped>\n",
       "    .dataframe tbody tr th:only-of-type {\n",
       "        vertical-align: middle;\n",
       "    }\n",
       "\n",
       "    .dataframe tbody tr th {\n",
       "        vertical-align: top;\n",
       "    }\n",
       "\n",
       "    .dataframe thead th {\n",
       "        text-align: right;\n",
       "    }\n",
       "</style>\n",
       "<table border=\"1\" class=\"dataframe\">\n",
       "  <thead>\n",
       "    <tr style=\"text-align: right;\">\n",
       "      <th></th>\n",
       "      <th>teaching</th>\n",
       "      <th>research</th>\n",
       "      <th>num_students</th>\n",
       "      <th>student_staff_ratio</th>\n",
       "      <th>total_score</th>\n",
       "    </tr>\n",
       "  </thead>\n",
       "  <tbody>\n",
       "    <tr>\n",
       "      <th>teaching</th>\n",
       "      <td>1.000000</td>\n",
       "      <td>0.862392</td>\n",
       "      <td>0.014333</td>\n",
       "      <td>-0.405093</td>\n",
       "      <td>0.877946</td>\n",
       "    </tr>\n",
       "    <tr>\n",
       "      <th>research</th>\n",
       "      <td>0.862392</td>\n",
       "      <td>1.000000</td>\n",
       "      <td>0.195702</td>\n",
       "      <td>-0.216166</td>\n",
       "      <td>0.908701</td>\n",
       "    </tr>\n",
       "    <tr>\n",
       "      <th>num_students</th>\n",
       "      <td>0.014333</td>\n",
       "      <td>0.195702</td>\n",
       "      <td>1.000000</td>\n",
       "      <td>0.319515</td>\n",
       "      <td>-0.026390</td>\n",
       "    </tr>\n",
       "    <tr>\n",
       "      <th>student_staff_ratio</th>\n",
       "      <td>-0.405093</td>\n",
       "      <td>-0.216166</td>\n",
       "      <td>0.319515</td>\n",
       "      <td>1.000000</td>\n",
       "      <td>-0.231568</td>\n",
       "    </tr>\n",
       "    <tr>\n",
       "      <th>total_score</th>\n",
       "      <td>0.877946</td>\n",
       "      <td>0.908701</td>\n",
       "      <td>-0.026390</td>\n",
       "      <td>-0.231568</td>\n",
       "      <td>1.000000</td>\n",
       "    </tr>\n",
       "  </tbody>\n",
       "</table>\n",
       "</div>"
      ],
      "text/plain": [
       "                     teaching  research  num_students  student_staff_ratio  \\\n",
       "teaching             1.000000  0.862392      0.014333            -0.405093   \n",
       "research             0.862392  1.000000      0.195702            -0.216166   \n",
       "num_students         0.014333  0.195702      1.000000             0.319515   \n",
       "student_staff_ratio -0.405093 -0.216166      0.319515             1.000000   \n",
       "total_score          0.877946  0.908701     -0.026390            -0.231568   \n",
       "\n",
       "                     total_score  \n",
       "teaching                0.877946  \n",
       "research                0.908701  \n",
       "num_students           -0.026390  \n",
       "student_staff_ratio    -0.231568  \n",
       "total_score             1.000000  "
      ]
     },
     "execution_count": 18,
     "metadata": {},
     "output_type": "execute_result"
    }
   ],
   "source": [
    "dat.corr()"
   ]
  },
  {
   "cell_type": "code",
   "execution_count": 19,
   "metadata": {},
   "outputs": [
    {
     "data": {
      "text/plain": [
       "<matplotlib.axes._subplots.AxesSubplot at 0x7faddb3a4cc0>"
      ]
     },
     "execution_count": 19,
     "metadata": {},
     "output_type": "execute_result"
    },
    {
     "data": {
      "image/png": "[encoded data removed]",
      "text/plain": [
       "<Figure size 864x432 with 2 Axes>"
      ]
     },
     "metadata": {},
     "output_type": "display_data"
    }
   ],
   "source": [
    "import seaborn as sns\n",
    "sns.heatmap(dat.corr())"
   ]
  },
  {
   "cell_type": "markdown",
   "metadata": {},
   "source": [
    "### 2. Scatter Plot 2 (Features yang memiliki dugaan kuat ada korelasi)"
   ]
  },
  {
   "cell_type": "markdown",
   "metadata": {},
   "source": [
    "Berdasarkan gambar pada soal no 1, maka menurut saya dugaan 2 features yang memiliki korelasi kuat satu sama lain yaitu:"
   ]
  },
  {
   "cell_type": "markdown",
   "metadata": {},
   "source": [
    "Teaching => university score for teaching (the learning environment) => Penilaian lingkungan belajar mengajar\n",
    "\n",
    "Total score"
   ]
  },
  {
   "cell_type": "markdown",
   "metadata": {},
   "source": [
    "#### Teaching terhadap Total Score"
   ]
  },
  {
   "cell_type": "code",
   "execution_count": 20,
   "metadata": {},
   "outputs": [
    {
     "data": {
      "image/png": "[encoded data removed]",
      "text/plain": [
       "<Figure size 864x432 with 1 Axes>"
      ]
     },
     "metadata": {},
     "output_type": "display_data"
    }
   ],
   "source": [
    "plt.scatter(dat['teaching'], dat['total_score'])\n",
    "plt.xlabel('Teaching')\n",
    "plt.ylabel('Total Score')\n",
    "plt.xlim\n",
    "plt.ylim\n",
    "plt.show()"
   ]
  },
  {
   "cell_type": "markdown",
   "metadata": {},
   "source": [
    "### 3. Statistik deskriptif dari beberapa 2 features yang dipilih. "
   ]
  },
  {
   "cell_type": "markdown",
   "metadata": {},
   "source": [
    "Melakukan operasi statistik deskriptif terhadap features yang dipilih."
   ]
  },
  {
   "cell_type": "code",
   "execution_count": 21,
   "metadata": {},
   "outputs": [],
   "source": [
    "max1 = np.max(dat['teaching'])\n",
    "min1 = np.min(dat['teaching'])\n",
    "mean1 = dat['teaching'].mean()\n",
    "std1 = dat['teaching'].std()\n",
    "\n",
    "max2 = np.max(dat['total_score'])\n",
    "min2 = np.min(dat['total_score'])\n",
    "mean2 = dat['total_score'].mean()\n",
    "std2 = dat['total_score'].std()"
   ]
  },
  {
   "cell_type": "markdown",
   "metadata": {},
   "source": [
    "#### a. Teaching"
   ]
  },
  {
   "cell_type": "code",
   "execution_count": 22,
   "metadata": {},
   "outputs": [
    {
     "name": "stdout",
     "output_type": "stream",
     "text": [
      "-------------------------------TEACHING---------------------------\n",
      "Nilai teaching terbesar yang didapatkan adalah 99.7\n",
      "Nilai teaching terkecil yang didapatkan adalah 37.7\n",
      "Rata-rata nilai teaching untuk semua universitas adalah 63.79587628865981\n",
      "Standar deviasi nilai teaching adalah 14.671606063568364\n"
     ]
    }
   ],
   "source": [
    "print('-------------------------------TEACHING---------------------------')\n",
    "print('Nilai teaching terbesar yang didapatkan adalah',max1)\n",
    "print('Nilai teaching terkecil yang didapatkan adalah',min1)\n",
    "print('Rata-rata nilai teaching untuk semua universitas adalah',mean1)\n",
    "print('Standar deviasi nilai teaching adalah',std1)"
   ]
  },
  {
   "cell_type": "markdown",
   "metadata": {},
   "source": [
    "#### b. Total Score"
   ]
  },
  {
   "cell_type": "code",
   "execution_count": 23,
   "metadata": {},
   "outputs": [
    {
     "name": "stdout",
     "output_type": "stream",
     "text": [
      "------------------------TOTAL SCORE-------------------------\n",
      "Total skor terbesar yang didapatkan adalah 96.1\n",
      "Total skor terkecil yang didapatkan adalah 57.0\n",
      "Rata-rata total skor yang didapatkan adalah 69.6742268041237\n",
      "Standar deviasi total skornya adalah 11.298702712687447\n"
     ]
    }
   ],
   "source": [
    "print('------------------------TOTAL SCORE-------------------------')\n",
    "print('Total skor terbesar yang didapatkan adalah',max2)\n",
    "print('Total skor terkecil yang didapatkan adalah',min2)\n",
    "print('Rata-rata total skor yang didapatkan adalah',mean2)\n",
    "print('Standar deviasi total skornya adalah',std2)"
   ]
  },
  {
   "cell_type": "code",
   "execution_count": 24,
   "metadata": {},
   "outputs": [
    {
     "data": {
      "text/html": [
       "<div>\n",
       "<style scoped>\n",
       "    .dataframe tbody tr th:only-of-type {\n",
       "        vertical-align: middle;\n",
       "    }\n",
       "\n",
       "    .dataframe tbody tr th {\n",
       "        vertical-align: top;\n",
       "    }\n",
       "\n",
       "    .dataframe thead th {\n",
       "        text-align: right;\n",
       "    }\n",
       "</style>\n",
       "<table border=\"1\" class=\"dataframe\">\n",
       "  <thead>\n",
       "    <tr style=\"text-align: right;\">\n",
       "      <th></th>\n",
       "      <th>teaching</th>\n",
       "      <th>total_score</th>\n",
       "    </tr>\n",
       "  </thead>\n",
       "  <tbody>\n",
       "    <tr>\n",
       "      <th>count</th>\n",
       "      <td>97.000000</td>\n",
       "      <td>97.000000</td>\n",
       "    </tr>\n",
       "    <tr>\n",
       "      <th>mean</th>\n",
       "      <td>63.795876</td>\n",
       "      <td>69.674227</td>\n",
       "    </tr>\n",
       "    <tr>\n",
       "      <th>std</th>\n",
       "      <td>14.671606</td>\n",
       "      <td>11.298703</td>\n",
       "    </tr>\n",
       "    <tr>\n",
       "      <th>min</th>\n",
       "      <td>37.700000</td>\n",
       "      <td>57.000000</td>\n",
       "    </tr>\n",
       "    <tr>\n",
       "      <th>25%</th>\n",
       "      <td>53.100000</td>\n",
       "      <td>60.700000</td>\n",
       "    </tr>\n",
       "    <tr>\n",
       "      <th>50%</th>\n",
       "      <td>61.300000</td>\n",
       "      <td>66.000000</td>\n",
       "    </tr>\n",
       "    <tr>\n",
       "      <th>75%</th>\n",
       "      <td>71.300000</td>\n",
       "      <td>75.900000</td>\n",
       "    </tr>\n",
       "    <tr>\n",
       "      <th>max</th>\n",
       "      <td>99.700000</td>\n",
       "      <td>96.100000</td>\n",
       "    </tr>\n",
       "  </tbody>\n",
       "</table>\n",
       "</div>"
      ],
      "text/plain": [
       "        teaching  total_score\n",
       "count  97.000000    97.000000\n",
       "mean   63.795876    69.674227\n",
       "std    14.671606    11.298703\n",
       "min    37.700000    57.000000\n",
       "25%    53.100000    60.700000\n",
       "50%    61.300000    66.000000\n",
       "75%    71.300000    75.900000\n",
       "max    99.700000    96.100000"
      ]
     },
     "execution_count": 24,
     "metadata": {},
     "output_type": "execute_result"
    }
   ],
   "source": [
    "dat[['teaching','total_score']].describe()"
   ]
  },
  {
   "cell_type": "markdown",
   "metadata": {},
   "source": [
    "### 4. Analisis 1 (Analisis Model NonLinear Regresi)."
   ]
  },
  {
   "cell_type": "markdown",
   "metadata": {},
   "source": [
    "Setelah memilih 2 variabel yang diduga mempunyai korelasi kuat. Langkah selanjutnya yaitu melakukan analisis model. Berdasarkan pola persebaran data, maka menurut saya model yang tepat untuk digunakan sebagai analisis adalah model NonLinear regresi. Sebab data-data tersebut tidak terlalu linear dan masih terdapat banyak pencilan. Sehingga perkiraan model yang tepat menurut saya adalah Model Eksponensial atau Model Polinomial."
   ]
  },
  {
   "cell_type": "markdown",
   "metadata": {},
   "source": [
    "#### Preparation"
   ]
  },
  {
   "cell_type": "code",
   "execution_count": 25,
   "metadata": {},
   "outputs": [
    {
     "data": {
      "text/html": [
       "<div>\n",
       "<style scoped>\n",
       "    .dataframe tbody tr th:only-of-type {\n",
       "        vertical-align: middle;\n",
       "    }\n",
       "\n",
       "    .dataframe tbody tr th {\n",
       "        vertical-align: top;\n",
       "    }\n",
       "\n",
       "    .dataframe thead th {\n",
       "        text-align: right;\n",
       "    }\n",
       "</style>\n",
       "<table border=\"1\" class=\"dataframe\">\n",
       "  <thead>\n",
       "    <tr style=\"text-align: right;\">\n",
       "      <th></th>\n",
       "      <th>teaching</th>\n",
       "      <th>total_score</th>\n",
       "    </tr>\n",
       "  </thead>\n",
       "  <tbody>\n",
       "    <tr>\n",
       "      <th>0</th>\n",
       "      <td>99.7</td>\n",
       "      <td>96.1</td>\n",
       "    </tr>\n",
       "    <tr>\n",
       "      <th>1</th>\n",
       "      <td>97.7</td>\n",
       "      <td>96.0</td>\n",
       "    </tr>\n",
       "    <tr>\n",
       "      <th>2</th>\n",
       "      <td>97.8</td>\n",
       "      <td>95.6</td>\n",
       "    </tr>\n",
       "    <tr>\n",
       "      <th>3</th>\n",
       "      <td>98.3</td>\n",
       "      <td>94.3</td>\n",
       "    </tr>\n",
       "    <tr>\n",
       "      <th>4</th>\n",
       "      <td>90.9</td>\n",
       "      <td>94.2</td>\n",
       "    </tr>\n",
       "  </tbody>\n",
       "</table>\n",
       "</div>"
      ],
      "text/plain": [
       "   teaching  total_score\n",
       "0      99.7         96.1\n",
       "1      97.7         96.0\n",
       "2      97.8         95.6\n",
       "3      98.3         94.3\n",
       "4      90.9         94.2"
      ]
     },
     "execution_count": 25,
     "metadata": {},
     "output_type": "execute_result"
    }
   ],
   "source": [
    "cdf = dat[['teaching','total_score']]\n",
    "cdf.head(5)"
   ]
  },
  {
   "cell_type": "markdown",
   "metadata": {},
   "source": [
    "#### Model NonLinear Regresi (Nilai Teaching terhadap Total Score)"
   ]
  },
  {
   "cell_type": "markdown",
   "metadata": {},
   "source": [
    "Analisis ini bertujuan untuk mengetahui pengaruh nilai teaching terhadap total score. Serta melakukan prediksi berapa nilai teaching (X) yang harus diperoleh supaya mendapatkan nilai total score sebesar Y (misalnya)."
   ]
  },
  {
   "cell_type": "code",
   "execution_count": 26,
   "metadata": {},
   "outputs": [
    {
     "data": {
      "image/png": "[encoded data removed]",
      "text/plain": [
       "<Figure size 576x360 with 1 Axes>"
      ]
     },
     "metadata": {},
     "output_type": "display_data"
    }
   ],
   "source": [
    "# x_data, y_data (teaching, total_score)\n",
    "\n",
    "plt.figure(figsize=(8,5))\n",
    "x_data, y_data = (dat['teaching'].values, dat['total_score'].values)\n",
    "plt.plot(x_data, y_data, 'ro')\n",
    "plt.xlabel('teaching')\n",
    "plt.ylabel('total score')\n",
    "plt.show()"
   ]
  },
  {
   "cell_type": "code",
   "execution_count": 27,
   "metadata": {},
   "outputs": [],
   "source": [
    "def sigmoid(x, Beta_1, Beta_2):\n",
    "    y = 1 / (1 + np.exp(-Beta_1*(x-Beta_2)))\n",
    "    return y\n",
    "\n",
    "def eksponensial(x, Beta_1, Beta_2):\n",
    "    y=Beta_1*np.exp(Beta_2*x)\n",
    "    return y\n",
    "\n",
    "def poli(x,Beta_1,Beta_2,Beta_3,Beta_4):\n",
    "    y=Beta_1+Beta_2*x+Beta_3*(x**2)+Beta_4*(x**3)\n",
    "    return y"
   ]
  },
  {
   "cell_type": "code",
   "execution_count": 28,
   "metadata": {},
   "outputs": [],
   "source": [
    "# Lets normalize our data\n",
    "xdata =x_data/max(x_data)\n",
    "ydata =y_data/max(y_data)"
   ]
  },
  {
   "cell_type": "code",
   "execution_count": 29,
   "metadata": {},
   "outputs": [
    {
     "name": "stdout",
     "output_type": "stream",
     "text": [
      "beta_1 = 1.138346, beta_2 = -2.873832\n"
     ]
    }
   ],
   "source": [
    "from scipy.optimize import curve_fit\n",
    "popt, pcov = curve_fit(poli, xdata, ydata,maxfev = 10000)\n",
    "popt1, pcov1 = curve_fit(eksponensial, xdata, ydata,maxfev = 10000)\n",
    "popt2, pcov2 = curve_fit(sigmoid, xdata, ydata,maxfev = 1000)\n",
    "#print the final parameters\n",
    "print(\"beta_1 = %f, beta_2 = %f\" % (popt[0], popt[1]))"
   ]
  },
  {
   "cell_type": "markdown",
   "metadata": {},
   "source": [
    "### Visualisasi Model"
   ]
  },
  {
   "cell_type": "code",
   "execution_count": 30,
   "metadata": {},
   "outputs": [
    {
     "data": {
      "image/png": "[encoded data removed]",
      "text/plain": [
       "<Figure size 576x360 with 1 Axes>"
      ]
     },
     "metadata": {},
     "output_type": "display_data"
    }
   ],
   "source": [
    "x = np.linspace(70, 200, 1000)\n",
    "x = x/max(x)\n",
    "plt.figure(figsize=(8,5))\n",
    "\n",
    "y = poli(x, *popt)\n",
    "y1 = eksponensial(x, *popt1)\n",
    "y2 = sigmoid(x, *popt2)\n",
    "plt.plot(xdata, ydata, 'ro', label='data')\n",
    "plt.plot(x,y,'m', linewidth=3.0, label='polinomial')\n",
    "plt.plot(x,y1, 'b', label='eksponensial')\n",
    "plt.plot(x,y2,'g', label='sigmoid')\n",
    "plt.legend(loc='best')\n",
    "plt.ylabel('Total Score')\n",
    "plt.xlabel('Teaching')\n",
    "plt.show()"
   ]
  },
  {
   "cell_type": "markdown",
   "metadata": {},
   "source": [
    "### Memeriksa Keakuratan Model"
   ]
  },
  {
   "cell_type": "code",
   "execution_count": 35,
   "metadata": {},
   "outputs": [
    {
     "name": "stdout",
     "output_type": "stream",
     "text": [
      "Sigmoid\n",
      "Mean absolute error: 0.05\n",
      "Residual sum of squares (MSE): 0.00\n",
      "R2-score: 0.44\n",
      "----------------------------------------\n",
      "\n",
      "Polinomial\n",
      "Mean absolute error: 0.04\n",
      "Residual sum of squares (MSE): 0.00\n",
      "R2-score: 0.80\n",
      "----------------------------------------\n",
      "\n",
      "Eksponensial\n",
      "Mean absolute error: 0.04\n",
      "Residual sum of squares (MSE): 0.00\n",
      "R2-score: 0.78\n"
     ]
    }
   ],
   "source": [
    "# split data into train/test\n",
    "msk = np.random.rand(len(dat)) < 0.8\n",
    "train_x = xdata[msk]\n",
    "test_x = xdata[~msk]\n",
    "train_y = ydata[msk]\n",
    "test_y = ydata[~msk]\n",
    "\n",
    "# build the model using train set\n",
    "popt, pcov = curve_fit(sigmoid, train_x, train_y)\n",
    "popt1, pcov1 = curve_fit(poli, train_x, train_y,maxfev=10000)\n",
    "popt2, pcov2 = curve_fit(eksponensial, train_x, train_y,maxfev=10000)\n",
    "\n",
    "# predict using test set\n",
    "y_hat = sigmoid(test_x, *popt)\n",
    "y_hat1 = poli(test_x, *popt1)\n",
    "y_hat2 = eksponensial(test_x, *popt2)\n",
    "\n",
    "# evaluation\n",
    "print (\"Sigmoid\")\n",
    "print(\"Mean absolute error: %.2f\" % np.mean(np.absolute(y_hat - test_y)))\n",
    "print(\"Residual sum of squares (MSE): %.2f\" % np.mean((y_hat - test_y) ** 2))\n",
    "from sklearn.metrics import r2_score\n",
    "print(\"R2-score: %.2f\" % r2_score(y_hat , test_y) )\n",
    "print('----------------------------------------')\n",
    "print('')\n",
    "print (\"Polinomial\")\n",
    "print(\"Mean absolute error: %.2f\" % np.mean(np.absolute(y_hat1 - test_y)))\n",
    "print(\"Residual sum of squares (MSE): %.2f\" % np.mean((y_hat1 - test_y) ** 2))\n",
    "from sklearn.metrics import r2_score\n",
    "print(\"R2-score: %.2f\" % r2_score(y_hat1 , test_y) )\n",
    "print('----------------------------------------')\n",
    "print('')\n",
    "print('Eksponensial')\n",
    "print(\"Mean absolute error: %.2f\" % np.mean(np.absolute(y_hat2 - test_y)))\n",
    "print(\"Residual sum of squares (MSE): %.2f\" % np.mean((y_hat2 - test_y) ** 2))\n",
    "from sklearn.metrics import r2_score\n",
    "print(\"R2-score: %.2f\" % r2_score(y_hat2 , test_y) )"
   ]
  },
  {
   "cell_type": "markdown",
   "metadata": {},
   "source": [
    "Berdasarkan hasil training dan testing di atas, dan dengan melihat hasil penghitungan MAE, MSE dan R2 dapat dilihat bahwa model yang paling layak untuk diterapkan adalah model non-linear polinomial. Sebab pada model polinomial nilai rata – rata kesalahan (error) absolut (MSE) antara hasil peramalan dengan nilai sebenarnya lebih kecil jika dibandingkan dengan model lain serta nilai R2-score lebih besar daripada model lain."
   ]
  },
  {
   "cell_type": "markdown",
   "metadata": {},
   "source": [
    "### 5. Analisis 2 (Clustering)"
   ]
  },
  {
   "cell_type": "markdown",
   "metadata": {},
   "source": [
    "Sebelum melakukan clustering langkah pertama adalah melakukan impor terhadap library yang nantinya akan digunakan."
   ]
  },
  {
   "cell_type": "code",
   "execution_count": 36,
   "metadata": {},
   "outputs": [],
   "source": [
    "from sklearn.cluster import KMeans\n",
    "from sklearn.preprocessing import MinMaxScaler\n",
    "from matplotlib import pyplot as plt1\n",
    "plt1.rcParams['figure.figsize'] = (12, 5)\n",
    "plt1.style.use('ggplot')"
   ]
  },
  {
   "cell_type": "markdown",
   "metadata": {},
   "source": [
    "### Preparing Data "
   ]
  },
  {
   "cell_type": "code",
   "execution_count": 37,
   "metadata": {},
   "outputs": [
    {
     "data": {
      "text/html": [
       "<div>\n",
       "<style scoped>\n",
       "    .dataframe tbody tr th:only-of-type {\n",
       "        vertical-align: middle;\n",
       "    }\n",
       "\n",
       "    .dataframe tbody tr th {\n",
       "        vertical-align: top;\n",
       "    }\n",
       "\n",
       "    .dataframe thead th {\n",
       "        text-align: right;\n",
       "    }\n",
       "</style>\n",
       "<table border=\"1\" class=\"dataframe\">\n",
       "  <thead>\n",
       "    <tr style=\"text-align: right;\">\n",
       "      <th></th>\n",
       "      <th>university_name</th>\n",
       "      <th>teaching</th>\n",
       "      <th>research</th>\n",
       "      <th>num_students</th>\n",
       "      <th>student_staff_ratio</th>\n",
       "      <th>total_score</th>\n",
       "    </tr>\n",
       "  </thead>\n",
       "  <tbody>\n",
       "    <tr>\n",
       "      <th>0</th>\n",
       "      <td>Harvard University</td>\n",
       "      <td>99.7</td>\n",
       "      <td>98.7</td>\n",
       "      <td>20152.0</td>\n",
       "      <td>8.9</td>\n",
       "      <td>96.1</td>\n",
       "    </tr>\n",
       "    <tr>\n",
       "      <th>1</th>\n",
       "      <td>California Institute of Technology</td>\n",
       "      <td>97.7</td>\n",
       "      <td>98.0</td>\n",
       "      <td>2243.0</td>\n",
       "      <td>6.9</td>\n",
       "      <td>96.0</td>\n",
       "    </tr>\n",
       "    <tr>\n",
       "      <th>2</th>\n",
       "      <td>Massachusetts Institute of Technology</td>\n",
       "      <td>97.8</td>\n",
       "      <td>91.4</td>\n",
       "      <td>11074.0</td>\n",
       "      <td>9.0</td>\n",
       "      <td>95.6</td>\n",
       "    </tr>\n",
       "    <tr>\n",
       "      <th>3</th>\n",
       "      <td>Stanford University</td>\n",
       "      <td>98.3</td>\n",
       "      <td>98.1</td>\n",
       "      <td>15596.0</td>\n",
       "      <td>7.8</td>\n",
       "      <td>94.3</td>\n",
       "    </tr>\n",
       "    <tr>\n",
       "      <th>4</th>\n",
       "      <td>Princeton University</td>\n",
       "      <td>90.9</td>\n",
       "      <td>95.4</td>\n",
       "      <td>7929.0</td>\n",
       "      <td>8.4</td>\n",
       "      <td>94.2</td>\n",
       "    </tr>\n",
       "  </tbody>\n",
       "</table>\n",
       "</div>"
      ],
      "text/plain": [
       "                         university_name  teaching  research  num_students  \\\n",
       "0                     Harvard University      99.7      98.7       20152.0   \n",
       "1     California Institute of Technology      97.7      98.0        2243.0   \n",
       "2  Massachusetts Institute of Technology      97.8      91.4       11074.0   \n",
       "3                    Stanford University      98.3      98.1       15596.0   \n",
       "4                   Princeton University      90.9      95.4        7929.0   \n",
       "\n",
       "   student_staff_ratio  total_score  \n",
       "0                  8.9         96.1  \n",
       "1                  6.9         96.0  \n",
       "2                  9.0         95.6  \n",
       "3                  7.8         94.3  \n",
       "4                  8.4         94.2  "
      ]
     },
     "execution_count": 37,
     "metadata": {},
     "output_type": "execute_result"
    }
   ],
   "source": [
    "dat.head()"
   ]
  },
  {
   "cell_type": "markdown",
   "metadata": {},
   "source": [
    "### Clustering Variabel Teaching terhadap Total Score "
   ]
  },
  {
   "cell_type": "code",
   "execution_count": 38,
   "metadata": {},
   "outputs": [
    {
     "data": {
      "text/html": [
       "<div>\n",
       "<style scoped>\n",
       "    .dataframe tbody tr th:only-of-type {\n",
       "        vertical-align: middle;\n",
       "    }\n",
       "\n",
       "    .dataframe tbody tr th {\n",
       "        vertical-align: top;\n",
       "    }\n",
       "\n",
       "    .dataframe thead th {\n",
       "        text-align: right;\n",
       "    }\n",
       "</style>\n",
       "<table border=\"1\" class=\"dataframe\">\n",
       "  <thead>\n",
       "    <tr style=\"text-align: right;\">\n",
       "      <th></th>\n",
       "      <th>teaching</th>\n",
       "      <th>total_score</th>\n",
       "    </tr>\n",
       "  </thead>\n",
       "  <tbody>\n",
       "    <tr>\n",
       "      <th>0</th>\n",
       "      <td>99.7</td>\n",
       "      <td>96.1</td>\n",
       "    </tr>\n",
       "    <tr>\n",
       "      <th>1</th>\n",
       "      <td>97.7</td>\n",
       "      <td>96.0</td>\n",
       "    </tr>\n",
       "    <tr>\n",
       "      <th>2</th>\n",
       "      <td>97.8</td>\n",
       "      <td>95.6</td>\n",
       "    </tr>\n",
       "    <tr>\n",
       "      <th>3</th>\n",
       "      <td>98.3</td>\n",
       "      <td>94.3</td>\n",
       "    </tr>\n",
       "    <tr>\n",
       "      <th>4</th>\n",
       "      <td>90.9</td>\n",
       "      <td>94.2</td>\n",
       "    </tr>\n",
       "  </tbody>\n",
       "</table>\n",
       "</div>"
      ],
      "text/plain": [
       "   teaching  total_score\n",
       "0      99.7         96.1\n",
       "1      97.7         96.0\n",
       "2      97.8         95.6\n",
       "3      98.3         94.3\n",
       "4      90.9         94.2"
      ]
     },
     "execution_count": 38,
     "metadata": {},
     "output_type": "execute_result"
    }
   ],
   "source": [
    "teaching_x = dat[['teaching','total_score']]\n",
    "teaching_x.head()"
   ]
  },
  {
   "cell_type": "code",
   "execution_count": 67,
   "metadata": {},
   "outputs": [
    {
     "data": {
      "image/png": "[encoded data removed]",
      "text/plain": [
       "<Figure size 864x360 with 1 Axes>"
      ]
     },
     "metadata": {},
     "output_type": "display_data"
    }
   ],
   "source": [
    "plt.scatter(teaching_x.teaching, teaching_x.total_score, s=10, c=\"b\", marker=\"o\", alpha = 1)\n",
    "plt.show()"
   ]
  },
  {
   "cell_type": "code",
   "execution_count": 39,
   "metadata": {},
   "outputs": [],
   "source": [
    "x_array = np.array(teaching_x) # mengubah variabel dataframe menjadi array"
   ]
  },
  {
   "cell_type": "markdown",
   "metadata": {},
   "source": [
    "Setelah variabel diubah ke dalam array langkah selanjutnya adalah menstandarkan kembali ukuran variabel. Supaya data dapat kembali seperti jenis semula."
   ]
  },
  {
   "cell_type": "code",
   "execution_count": 40,
   "metadata": {},
   "outputs": [],
   "source": [
    "scaler = MinMaxScaler()\n",
    "x_scaled = scaler.fit_transform(x_array)"
   ]
  },
  {
   "cell_type": "markdown",
   "metadata": {},
   "source": [
    "Menentukan nilai K (n_cluster), saya memilih menentukan nilai K sebesar 3 cluster."
   ]
  },
  {
   "cell_type": "code",
   "execution_count": 41,
   "metadata": {},
   "outputs": [
    {
     "data": {
      "text/plain": [
       "KMeans(algorithm='auto', copy_x=True, init='k-means++', max_iter=300,\n",
       "    n_clusters=3, n_init=10, n_jobs=None, precompute_distances='auto',\n",
       "    random_state=123, tol=0.0001, verbose=0)"
      ]
     },
     "execution_count": 41,
     "metadata": {},
     "output_type": "execute_result"
    }
   ],
   "source": [
    "kmeans = KMeans(n_clusters = 3, random_state=123)\n",
    "kmeans.fit(x_scaled) # menentukan cluster dari data"
   ]
  },
  {
   "cell_type": "code",
   "execution_count": 42,
   "metadata": {},
   "outputs": [
    {
     "name": "stdout",
     "output_type": "stream",
     "text": [
      "[[0.25924318 0.10972851]\n",
      " [0.49137931 0.42049563]\n",
      " [0.81854839 0.84638747]]\n"
     ]
    }
   ],
   "source": [
    "print(kmeans.cluster_centers_) # nilai centroid"
   ]
  },
  {
   "cell_type": "code",
   "execution_count": 43,
   "metadata": {},
   "outputs": [
    {
     "name": "stdout",
     "output_type": "stream",
     "text": [
      "[2 2 2 2 2 2 2 2 2 2 2 2 2 2 2 2 1 1 1 1 1 1 1 1 1 1 1 1 1 1 1 1 1 1 1 1 1\n",
      " 1 1 1 0 1 0 1 0 0 0 0 0 1 0 0 0 0 0 1 1 0 0 0 0 0 0 0 0 0 0 0 0 0 0 0 0 0\n",
      " 0 0 0 0 0 0 0 0 0 0 0 0 0 0 0 0 0 0 0 0 0 0 0]\n"
     ]
    },
    {
     "name": "stderr",
     "output_type": "stream",
     "text": [
      "/home/ec2-user/anaconda3/envs/python3/lib/python3.6/site-packages/ipykernel/__main__.py:2: SettingWithCopyWarning: \n",
      "A value is trying to be set on a copy of a slice from a DataFrame.\n",
      "Try using .loc[row_indexer,col_indexer] = value instead\n",
      "\n",
      "See the caveats in the documentation: http://pandas.pydata.org/pandas-docs/stable/indexing.html#indexing-view-versus-copy\n",
      "  from ipykernel import kernelapp as app\n"
     ]
    }
   ],
   "source": [
    "print(kmeans.labels_)\n",
    "teaching_x[\"kluster\"] = kmeans.labels_"
   ]
  },
  {
   "cell_type": "markdown",
   "metadata": {},
   "source": [
    "### Visualisasi Cluster"
   ]
  },
  {
   "cell_type": "code",
   "execution_count": 44,
   "metadata": {},
   "outputs": [
    {
     "data": {
      "text/plain": [
       "<function matplotlib.pyplot.show(*args, **kw)>"
      ]
     },
     "execution_count": 44,
     "metadata": {},
     "output_type": "execute_result"
    },
    {
     "data": {
      "image/png": "[encoded data removed]",
      "text/plain": [
       "<Figure size 864x360 with 2 Axes>"
      ]
     },
     "metadata": {},
     "output_type": "display_data"
    }
   ],
   "source": [
    "output = plt.scatter(x_scaled[:,0], x_scaled[:,1], s = 100, c = teaching_x.kluster, marker = \"o\", alpha = 1,)\n",
    "centers = kmeans.cluster_centers_\n",
    "\n",
    "plt1.scatter(centers[:,0],centers[:,1], c='red', s=200, alpha = 1, marker=\"s\");\n",
    "plt1.title(\"Hasil Clusterring K-Means\")\n",
    "plt1.colorbar(output)\n",
    "plt1.show"
   ]
  },
  {
   "cell_type": "markdown",
   "metadata": {},
   "source": [
    "Dari gambar di atas dapat kita lihat bahwa data telah tercluster menjadi 3.\n",
    "1. Cluster berwarna ungu merupakan cluster kelas terbawah\n",
    "2. Cluster berwarna cyan merupakan cluster kelas menengah\n",
    "2. Cluster berwarna kuning merupakan cluster kelas teratas"
   ]
  },
  {
   "cell_type": "markdown",
   "metadata": {},
   "source": [
    "# Kesimpulan "
   ]
  },
  {
   "cell_type": "markdown",
   "metadata": {},
   "source": [
    "### a. Hasil analisis"
   ]
  },
  {
   "cell_type": "markdown",
   "metadata": {},
   "source": [
    "Peringkat sebuah universitas dilihat berdasarkan total score yang didapat oleh universitas tersebut. \n",
    "Berdasarkan hasil analisis di atas maka dapat disimpulkan bahwa:\n",
    "1. Variabel yang mempunyai paling berpengaruh terhdapat peningkatan peringkat universitas adalah teaching dan reseacrh. Sebab teaching serta research mempunyai korelasi yang kuat dengan  total score.\n",
    "2. Model analisis regresi yang paling tepat digunakan dalam analisis 2 variabel yang berkorelasi tersebut adalah model analisis NonLinear Polinomial.\n",
    "3. Data tersebut dapat diclustering menjadi 3 cluster"
   ]
  },
  {
   "cell_type": "markdown",
   "metadata": {},
   "source": [
    "### b. Prediksi "
   ]
  },
  {
   "cell_type": "markdown",
   "metadata": {},
   "source": [
    "Dengan melihat korelasi yang kuat antara nilai teaching, research dan total score. Menurut saya, bisa digunakan untuk melakukan prediksi. Misalnya ketika sebuah universitas ingin mendapatkan peringkat yang lebih baik dari yang di dapat sekarang maka seharusnya mereka terlebih dahulu mengupayakan supaya nilai teaching dan researchnya semakin tinggi karena 2 variabel tersebut mempunyai korelasi yang kuat dibandingkan dengan variabel lain."
   ]
  },
  {
   "cell_type": "code",
   "execution_count": null,
   "metadata": {},
   "outputs": [],
   "source": []
  }
 ],
 "metadata": {
  "kernelspec": {
   "display_name": "conda_python3",
   "language": "python",
   "name": "conda_python3"
  },
  "language_info": {
   "codemirror_mode": {
    "name": "ipython",
    "version": 3
   },
   "file_extension": ".py",
   "mimetype": "text/x-python",
   "name": "python",
   "nbconvert_exporter": "python",
   "pygments_lexer": "ipython3",
   "version": "3.6.5"
  }
 },
 "nbformat": 4,
 "nbformat_minor": 2
}
